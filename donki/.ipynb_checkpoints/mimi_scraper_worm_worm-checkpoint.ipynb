{
 "cells": [
  {
   "cell_type": "code",
   "execution_count": 20,
   "id": "30ea063f",
   "metadata": {},
   "outputs": [],
   "source": [
    "import time\n",
    "import datetime\n",
    "from selenium import webdriver\n",
    "from webdriver_manager.chrome import ChromeDriverManager\n",
    "from selenium.common.exceptions import NoSuchElementException\n",
    "import pandas as pd\n",
    "import numpy as np\n",
    "import datetime as dt\n",
    "from selenium.webdriver.common.by import By\n",
    "\n",
    "\n",
    "def get_max_pages(driver):\n",
    "    max_page = 1\n",
    "    for i in driver.find_elements(By.CLASS_NAME, \"ant-pagination-item\"):\n",
    "        if int(i.text) >= max_page:\n",
    "            max_page = int(i.text)\n",
    "    return max_page\n",
    "\n",
    "\n",
    "def donki_scraper_with_category(driver, category):\n",
    "    df = pd.DataFrame()\n",
    "    driver.execute_script(\"window.scrollTo(0, 10);\")\n",
    "    time.sleep(3)\n",
    "    for cate_list in driver.find_elements(By.CLASS_NAME, \"type-item\"):\n",
    "        if cate_list.text == category:\n",
    "            cate_list.click()\n",
    "            time.sleep(3.5)\n",
    "\n",
    "            category_max_page = get_max_pages(driver)\n",
    "            print(cate_list.text,\": \",category_max_page)\n",
    "            time.sleep(3)\n",
    "            for page in range(1,category_max_page+1):\n",
    "                if page <= category_max_page:\n",
    "\n",
    "                    driver.execute_script(\"window.scrollTo(0, 1060);\")\n",
    "                    time.sleep(1)\n",
    "                    driver.execute_script(\"window.scrollTo(0, 1125);\")\n",
    "#                     driver.execute_script(\"window.scrollTo(0, document.body.scrollHeight);\")\n",
    "                    time.sleep(3)\n",
    "\n",
    "                    temp_df = pd.DataFrame()\n",
    "                    category, goods_name, jpPrice, jporgPrice, referencePrice = [], [], [], [], []\n",
    "                    for i in driver.find_elements(By.CLASS_NAME, \"goods-item\"): #product\n",
    "                        goods_name.append(i.find_element(By.CLASS_NAME, \"goodsName\").text)\n",
    "                        jpPrice.append(i.find_element(By.CLASS_NAME, \"jpPrice\").text)\n",
    "\n",
    "                        try:\n",
    "                            jporgPrice.append(i.find_element(By.CLASS_NAME, \"orgPrice\").text)\n",
    "                        except NoSuchElementException:\n",
    "                            jporgPrice.append(i.find_element(By.CLASS_NAME, \"jpPrice\").text)\n",
    "\n",
    "                        referencePrice.append(i.find_element(By.CLASS_NAME, \"referencePrice\").text)\n",
    "                        category.append(cate_list.text)\n",
    "\n",
    "                    temp_df['category'] = category\n",
    "                    temp_df['goods_name'] = goods_name\n",
    "                    temp_df['jpPrice'] = jpPrice\n",
    "                    temp_df['jporgPrice'] = jporgPrice\n",
    "                    temp_df['referencePrice'] = referencePrice  \n",
    "                    time.sleep(2)\n",
    "\n",
    "                    df = pd.concat([df,temp_df],axis=0)\n",
    "                    df = df.reset_index(drop = True)\n",
    "\n",
    "                    if page < category_max_page:\n",
    "                        driver.find_element(By.CLASS_NAME, \"ant-pagination-next\").click()\n",
    "                        time.sleep(2)\n",
    "                        driver.execute_script(\"window.scrollTo(0, 30);\")\n",
    "                        time.sleep(2)\n",
    "                    else:\n",
    "                        pass\n",
    "                \n",
    "            return df\n",
    "        else: \n",
    "            pass\n",
    "\n",
    "\n",
    "def pre_run(category):\n",
    "    donki_link = 'https://mpglobal.donki.com/ec-web/d/pcd?titleStr=5YyW5aaG5ZOB&gpId=gm-0004?lan=zh-tw'\n",
    "    driver = webdriver.Chrome(ChromeDriverManager().install())\n",
    "    driver.get(donki_link)\n",
    "    time.sleep(3.5)\n",
    "    driver.refresh()\n",
    "    time.sleep(4)\n",
    "    driver.get(donki_link)\n",
    "    time.sleep(4)\n",
    "    df = donki_scraper_with_category(driver = driver, category = category)\n",
    "    df.to_csv('result/donki_scraper_result'+' category='+category+'.csv', index = False)\n",
    "\n",
    "    driver.close()\n",
    "    driver.quit()\n",
    "    \n",
    "    return df"
   ]
  },
  {
   "cell_type": "code",
   "execution_count": null,
   "id": "15bd826a",
   "metadata": {},
   "outputs": [],
   "source": [
    "# category_list = ['化妝品','日用品','母嬰用品','衛生保健','食品','電器','藥品','健康','服飾','玩具']\n",
    "df_cosmetic = pre_run(category = '化妝品')\n",
    "df_necessities = pre_run(category = '日用品')\n",
    "df_babymonther = pre_run(category = '母嬰用品')\n",
    "df_health_care = pre_run(category = '衛生保健')"
   ]
  },
  {
   "cell_type": "code",
   "execution_count": null,
   "id": "7d4cf331",
   "metadata": {},
   "outputs": [],
   "source": [
    "df_food = pre_run(category = '食品')\n",
    "df_electronic = pre_run(category = '電器')\n",
    "df_drug = pre_run(category = '藥品')\n",
    "df_healthy = pre_run(category = '健康')\n",
    "df_clothing = pre_run(category = '服飾')"
   ]
  },
  {
   "cell_type": "code",
   "execution_count": 23,
   "id": "55eb2b27",
   "metadata": {},
   "outputs": [
    {
     "name": "stderr",
     "output_type": "stream",
     "text": [
      "\n",
      "\n",
      "====== WebDriver manager ======\n",
      "Current google-chrome version is 101.0.4951\n",
      "Get LATEST chromedriver version for 101.0.4951 google-chrome\n",
      "Driver [/Users/vincent/.wdm/drivers/chromedriver/mac64_m1/101.0.4951.41/chromedriver] found in cache\n",
      "/var/folders/xv/45cl7c1j79vdvpw52x0zzmv40000gn/T/ipykernel_25748/598458182.py:80: DeprecationWarning: executable_path has been deprecated, please pass in a Service object\n",
      "  driver = webdriver.Chrome(ChromeDriverManager().install())\n"
     ]
    },
    {
     "name": "stdout",
     "output_type": "stream",
     "text": [
      "玩具 :  8\n"
     ]
    }
   ],
   "source": [
    "df_toy = pre_run(category = '玩具')"
   ]
  },
  {
   "cell_type": "code",
   "execution_count": 36,
   "id": "ca8fd6a0",
   "metadata": {},
   "outputs": [],
   "source": [
    "from os import listdir\n",
    "path = '/Users/vincent/Desktop/donki/result'\n",
    "files = listdir(path)\n",
    "files.remove('.DS_Store')\n",
    "df_final = pd.DataFrame()"
   ]
  },
  {
   "cell_type": "code",
   "execution_count": 37,
   "id": "76f3599f",
   "metadata": {},
   "outputs": [
    {
     "name": "stdout",
     "output_type": "stream",
     "text": [
      "donki_scraper_result category=衛生保健.csv\n",
      "donki_scraper_result category=健康.csv\n",
      "donki_scraper_result category=日用品.csv\n",
      "donki_scraper_result category=食品.csv\n",
      "donki_scraper_result category=化妝品.csv\n",
      "donki_scraper_result category=玩具.csv\n",
      "donki_scraper_result category=電器.csv\n",
      "donki_scraper_result category=藥品.csv\n",
      "donki_scraper_result category=服飾.csv\n",
      "donki_scraper_result category=母嬰用品.csv\n"
     ]
    }
   ],
   "source": [
    "for f in files:\n",
    "    df_f = pd.read_csv(path+\"/\"+f)\n",
    "    df_final = pd.concat([df_final,df_f],axis=0)\n",
    "    print(f)\n",
    "df_final.reset_index(drop=True)\n",
    "df_final.to_csv('donki_scraper_final_result.csv', index = False)"
   ]
  }
 ],
 "metadata": {
  "kernelspec": {
   "display_name": "donki_scrapper",
   "language": "python",
   "name": "donki_scrapper"
  },
  "language_info": {
   "codemirror_mode": {
    "name": "ipython",
    "version": 3
   },
   "file_extension": ".py",
   "mimetype": "text/x-python",
   "name": "python",
   "nbconvert_exporter": "python",
   "pygments_lexer": "ipython3",
   "version": "3.10.4"
  }
 },
 "nbformat": 4,
 "nbformat_minor": 5
}
